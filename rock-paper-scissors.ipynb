{
 "cells": [
  {
   "cell_type": "code",
   "execution_count": 3,
   "id": "right-porcelain",
   "metadata": {},
   "outputs": [
    {
     "name": "stdout",
     "output_type": "stream",
     "text": [
      "Taş,Kağıt, Makas oyununa hoş geldinizn\n",
      "taş? kağıt? makas? makas\n",
      "Bilgisayarın seçimi: Taşn Sonuç:Siz Kaybettiniz\n",
      "Siz: 0 VS bilgisayar 1\n",
      "OYUNU BİLGİSAYAR KAZANDI\n",
      "taş? kağıt? makas? makas\n",
      "Bilgisayarın seçimi: Taşn Sonuç:Siz Kaybettiniz\n",
      "Siz: 0 VS bilgisayar 2\n",
      "OYUNU BİLGİSAYAR KAZANDI\n",
      "taş? kağıt? makas? makas\n",
      "Siz: 0 VS bilgisayar 3\n"
     ]
    }
   ],
   "source": [
    "import random\n",
    "secenek=[\"taş\",\"kağıt\",\"makas\"]\n",
    "taş=secenek[0]\n",
    "kağıt=secenek[1]\n",
    "makas=secenek[2]\n",
    "print(\"Taş,Kağıt, Makas oyununa hoş geldinizn\")\n",
    "\n",
    "skor_kullanici = 0\n",
    "skor_bilgisayar = 0\n",
    "\n",
    "while True:\n",
    "    kullanici_secim = input(\"taş? kağıt? makas? \")\n",
    "    bilgisar_secim = random.choice(secenek)\n",
    "    if kullanici_secim==taş:\n",
    "        if bilgisar_secim==taş:\n",
    "            print(\"Bilgisayarın seçimi: Taşn Sonuç: Berabere\")\n",
    "        elif bilgisar_secim==kağıt:\n",
    "            print(\"Bilgisayarın seçimi: Kağıtn Sonuç:Siz Kaybettiniz\")\n",
    "            skor_bilgisayar +=1\n",
    "        else:\n",
    "            print(\"Bilgisayarın seçimi: Makasn Sonuç:Siz Kazandınız\")\n",
    "            skor_kullanici +=1\n",
    "            \n",
    "    if kullanici_secim==kağıt:\n",
    "        if bilgisar_secim==taş:\n",
    "            print(\"Bilgisayarın seçimi: Taşn Sonuç: Siz Kazandınız\")\n",
    "            skor_kullanici +=1\n",
    "        elif bilgisar_secim==kağıt:\n",
    "            print(\"Bilgisayarın seçimi: Kağıtn Sonuç: Berabere\")\n",
    "        else:\n",
    "            print(\"Bilgisayarın seçimi: Makasn Sonuç:Siz Kaybettiniz\")\n",
    "            skor_bilgisayar +=1\n",
    "            \n",
    "    if kullanici_secim==makas:\n",
    "        if bilgisar_secim==taş:\n",
    "            print(\"Bilgisayarın seçimi: Taşn Sonuç:Siz Kaybettiniz\")\n",
    "            skor_bilgisayar +=1\n",
    "        elif bilgisar_secim==kağıt:\n",
    "            print(\"Bilgisayarın seçimi: Kağıtn Sonuç: Siz Kazandınız\")\n",
    "            skor_kullanici +=1\n",
    "        else:\n",
    "            skor_bilgisayar +=1\n",
    "            \n",
    "    print(\"Siz:\", skor_kullanici, \"VS bilgisayar\",skor_bilgisayar)\n",
    "    \n",
    "    if skor_kullanici == 3 or skor_bilgisayar == 3:\n",
    "            break\n",
    "            \n",
    "    if skor_bilgisayar > skor_kullanici:\n",
    "        print(\"OYUNU BİLGİSAYAR KAZANDI\")\n",
    "    else:\n",
    "        print(\"OYUNU SİZ KAZANDINIZ\")"
   ]
  },
  {
   "cell_type": "code",
   "execution_count": null,
   "id": "departmental-cable",
   "metadata": {},
   "outputs": [],
   "source": []
  }
 ],
 "metadata": {
  "kernelspec": {
   "display_name": "Python 3",
   "language": "python",
   "name": "python3"
  },
  "language_info": {
   "codemirror_mode": {
    "name": "ipython",
    "version": 3
   },
   "file_extension": ".py",
   "mimetype": "text/x-python",
   "name": "python",
   "nbconvert_exporter": "python",
   "pygments_lexer": "ipython3",
   "version": "3.6.13"
  }
 },
 "nbformat": 4,
 "nbformat_minor": 5
}
